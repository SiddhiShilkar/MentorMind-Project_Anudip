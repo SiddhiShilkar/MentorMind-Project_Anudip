{
 "cells": [
  {
   "cell_type": "markdown",
   "id": "829d8f9f",
   "metadata": {},
   "source": [
    "# Analyse Health and Demographic Data to identify common traits leading to Heart Disease_Anudip"
   ]
  },
  {
   "cell_type": "markdown",
   "id": "6970aa36",
   "metadata": {},
   "source": [
    "Import Libraries"
   ]
  },
  {
   "cell_type": "code",
   "execution_count": 1,
   "id": "6df4b154",
   "metadata": {},
   "outputs": [],
   "source": [
    "import pandas as pd"
   ]
  },
  {
   "cell_type": "markdown",
   "id": "658b9358",
   "metadata": {},
   "source": [
    "Pandas is a powerful and flexible open-source data analysis and manipulation library for Python, providing data structures like DataFrames that make it easy to clean, transform, and analyze large datasets efficiently."
   ]
  },
  {
   "cell_type": "markdown",
   "id": "a503c908",
   "metadata": {},
   "source": [
    "Import the Dataset"
   ]
  },
  {
   "cell_type": "code",
   "execution_count": 2,
   "id": "18b2fa5b",
   "metadata": {},
   "outputs": [],
   "source": [
    "df = pd.read_csv('C:/Users/Vilas/Downloads/heart_disease_health_indicators_BRFSS2015 2 (1).csv')"
   ]
  },
  {
   "cell_type": "markdown",
   "id": "5d219ae7",
   "metadata": {},
   "source": [
    "Convert categorical variables to appropriate data types"
   ]
  },
  {
   "cell_type": "code",
   "execution_count": 3,
   "id": "9504728d",
   "metadata": {},
   "outputs": [],
   "source": [
    "categorical_columns = [\n",
    "    'HeartDiseaseorAttack', 'HighBP', 'HighChol', 'CholCheck', 'Smoker',\n",
    "    'Stroke', 'PhysActivity', 'Fruits', 'Veggies', 'HvyAlcoholConsump', 'AnyHealthcare',\n",
    "    'NoDocbcCost', 'DiffWalk', 'Sex', 'Age', 'Education', 'Income'\n",
    "]"
   ]
  },
  {
   "cell_type": "code",
   "execution_count": 4,
   "id": "7315a91e",
   "metadata": {},
   "outputs": [],
   "source": [
    "for col in categorical_columns: df[col] = df[col].astype('category')"
   ]
  },
  {
   "cell_type": "code",
   "execution_count": 5,
   "id": "6b1f7364",
   "metadata": {},
   "outputs": [
    {
     "name": "stdout",
     "output_type": "stream",
     "text": [
      "HeartDiseaseorAttack    category\n",
      "HighBP                  category\n",
      "HighChol                category\n",
      "CholCheck               category\n",
      "BMI                        int64\n",
      "Smoker                  category\n",
      "Stroke                  category\n",
      "Diabetes                   int64\n",
      "PhysActivity            category\n",
      "Fruits                  category\n",
      "Veggies                 category\n",
      "HvyAlcoholConsump       category\n",
      "AnyHealthcare           category\n",
      "NoDocbcCost             category\n",
      "GenHlth                    int64\n",
      "MentHlth                   int64\n",
      "PhysHlth                   int64\n",
      "DiffWalk                category\n",
      "Sex                     category\n",
      "Age                     category\n",
      "Education               category\n",
      "Income                  category\n",
      "dtype: object\n"
     ]
    }
   ],
   "source": [
    "print(df.dtypes)"
   ]
  },
  {
   "cell_type": "markdown",
   "id": "e4575d3a",
   "metadata": {},
   "source": [
    "Displaying the data types of each column in the DataFrame. The output shows that categorical variables (e.g., 'HeartDiseaseorAttack', 'HighBP', 'Smoker') are labeled as 'category', while continuous variables (e.g., 'BMI', 'Diabetes', 'GenHlth') are of type 'int64'. This information helps in understanding the nature of the data and planning for appropriate analysis and preprocessing.\n"
   ]
  },
  {
   "cell_type": "markdown",
   "id": "f57e5233",
   "metadata": {},
   "source": [
    "Handling Missing Values in the Dataset"
   ]
  },
  {
   "cell_type": "code",
   "execution_count": 6,
   "id": "06338b92",
   "metadata": {},
   "outputs": [
    {
     "name": "stdout",
     "output_type": "stream",
     "text": [
      "Missing values in each column:\n",
      " HeartDiseaseorAttack    0\n",
      "HighBP                  0\n",
      "HighChol                0\n",
      "CholCheck               0\n",
      "BMI                     0\n",
      "Smoker                  0\n",
      "Stroke                  0\n",
      "Diabetes                0\n",
      "PhysActivity            0\n",
      "Fruits                  0\n",
      "Veggies                 0\n",
      "HvyAlcoholConsump       0\n",
      "AnyHealthcare           0\n",
      "NoDocbcCost             0\n",
      "GenHlth                 0\n",
      "MentHlth                0\n",
      "PhysHlth                0\n",
      "DiffWalk                0\n",
      "Sex                     0\n",
      "Age                     0\n",
      "Education               0\n",
      "Income                  0\n",
      "dtype: int64\n"
     ]
    }
   ],
   "source": [
    "missing_values = df.isnull().sum()\n",
    "print(\"Missing values in each column:\\n\", missing_values)"
   ]
  },
  {
   "cell_type": "markdown",
   "id": "7820e5ae",
   "metadata": {},
   "source": [
    "Displaying the count of missing values for each column in the DataFrame. The output indicates that there are no missing values in any of the columns, suggesting that the dataset is complete and ready for further analysis."
   ]
  },
  {
   "cell_type": "markdown",
   "id": "e14c082b",
   "metadata": {},
   "source": [
    "Removing Duplicate "
   ]
  },
  {
   "cell_type": "code",
   "execution_count": 7,
   "id": "4582b418",
   "metadata": {},
   "outputs": [
    {
     "name": "stdout",
     "output_type": "stream",
     "text": [
      "Number of duplicate rows: 23899\n"
     ]
    }
   ],
   "source": [
    "duplicate_rows = df.duplicated().sum()\n",
    "print(f\"Number of duplicate rows: {duplicate_rows}\")"
   ]
  },
  {
   "cell_type": "markdown",
   "id": "b6082b32",
   "metadata": {},
   "source": [
    "Calculating and printing the number of duplicate rows in the DataFrame.\n",
    "Initially, the DataFrame has 23,899 duplicate rows."
   ]
  },
  {
   "cell_type": "code",
   "execution_count": 8,
   "id": "5a058a4c",
   "metadata": {},
   "outputs": [],
   "source": [
    "df = df.drop_duplicates()"
   ]
  },
  {
   "cell_type": "code",
   "execution_count": 9,
   "id": "b6d226fc",
   "metadata": {},
   "outputs": [
    {
     "name": "stdout",
     "output_type": "stream",
     "text": [
      "Shape of the dataset after removing duplicates: (229781, 22)\n"
     ]
    }
   ],
   "source": [
    "print(\"Shape of the dataset after removing duplicates:\", df.shape)"
   ]
  },
  {
   "cell_type": "markdown",
   "id": "85167da6",
   "metadata": {},
   "source": [
    "Removing duplicate rows from the DataFrame and printing the shape of the dataset after cleanup.\n",
    "After removing duplicates, the shape of the DataFrame is (229,781, 22), indicating the number of rows has decreased."
   ]
  },
  {
   "cell_type": "code",
   "execution_count": 10,
   "id": "0b33b173",
   "metadata": {},
   "outputs": [
    {
     "name": "stdout",
     "output_type": "stream",
     "text": [
      "Number of duplicate rows after cleanup: 0\n"
     ]
    }
   ],
   "source": [
    "print(\"Number of duplicate rows after cleanup:\", df.duplicated().sum())"
   ]
  },
  {
   "cell_type": "markdown",
   "id": "1916c346",
   "metadata": {},
   "source": [
    "Re-checking the number of duplicate rows to confirm the cleanup was successful.\n",
    "After cleanup, there should be 0 duplicate rows remaining"
   ]
  },
  {
   "cell_type": "code",
   "execution_count": 11,
   "id": "f70c34c1",
   "metadata": {},
   "outputs": [
    {
     "name": "stdout",
     "output_type": "stream",
     "text": [
      "<class 'pandas.core.frame.DataFrame'>\n",
      "Int64Index: 229781 entries, 0 to 253679\n",
      "Data columns (total 22 columns):\n",
      " #   Column                Non-Null Count   Dtype   \n",
      "---  ------                --------------   -----   \n",
      " 0   HeartDiseaseorAttack  229781 non-null  category\n",
      " 1   HighBP                229781 non-null  category\n",
      " 2   HighChol              229781 non-null  category\n",
      " 3   CholCheck             229781 non-null  category\n",
      " 4   BMI                   229781 non-null  int64   \n",
      " 5   Smoker                229781 non-null  category\n",
      " 6   Stroke                229781 non-null  category\n",
      " 7   Diabetes              229781 non-null  int64   \n",
      " 8   PhysActivity          229781 non-null  category\n",
      " 9   Fruits                229781 non-null  category\n",
      " 10  Veggies               229781 non-null  category\n",
      " 11  HvyAlcoholConsump     229781 non-null  category\n",
      " 12  AnyHealthcare         229781 non-null  category\n",
      " 13  NoDocbcCost           229781 non-null  category\n",
      " 14  GenHlth               229781 non-null  int64   \n",
      " 15  MentHlth              229781 non-null  int64   \n",
      " 16  PhysHlth              229781 non-null  int64   \n",
      " 17  DiffWalk              229781 non-null  category\n",
      " 18  Sex                   229781 non-null  category\n",
      " 19  Age                   229781 non-null  category\n",
      " 20  Education             229781 non-null  category\n",
      " 21  Income                229781 non-null  category\n",
      "dtypes: category(17), int64(5)\n",
      "memory usage: 14.2 MB\n",
      "None\n"
     ]
    }
   ],
   "source": [
    "print(df.info())"
   ]
  },
  {
   "cell_type": "markdown",
   "id": "bb508bb1",
   "metadata": {},
   "source": [
    "Displaying the DataFrame information, including the number of entries, data columns, and data types. The DataFrame has 229,781 entries and 22 columns with a mix of categorical and numerical data types."
   ]
  },
  {
   "cell_type": "code",
   "execution_count": 12,
   "id": "b788ebcd",
   "metadata": {},
   "outputs": [
    {
     "name": "stdout",
     "output_type": "stream",
     "text": [
      "        HeartDiseaseorAttack    HighBP  HighChol  CholCheck           BMI  \\\n",
      "count               229781.0  229781.0  229781.0   229781.0  229781.00000   \n",
      "unique                   2.0       2.0       2.0        2.0           NaN   \n",
      "top                      0.0       0.0       0.0        1.0           NaN   \n",
      "freq                206064.0  125359.0  128273.0   220483.0           NaN   \n",
      "mean                     NaN       NaN       NaN        NaN      28.68567   \n",
      "std                      NaN       NaN       NaN        NaN       6.78636   \n",
      "min                      NaN       NaN       NaN        NaN      12.00000   \n",
      "25%                      NaN       NaN       NaN        NaN      24.00000   \n",
      "50%                      NaN       NaN       NaN        NaN      27.00000   \n",
      "75%                      NaN       NaN       NaN        NaN      32.00000   \n",
      "max                      NaN       NaN       NaN        NaN      98.00000   \n",
      "\n",
      "          Smoker    Stroke       Diabetes  PhysActivity    Fruits  ...  \\\n",
      "count   229781.0  229781.0  229781.000000      229781.0  229781.0  ...   \n",
      "unique       2.0       2.0            NaN           2.0       2.0  ...   \n",
      "top          0.0       0.0            NaN           1.0       1.0  ...   \n",
      "freq    122781.0  219497.0            NaN      168511.0  140848.0  ...   \n",
      "mean         NaN       NaN       0.325627           NaN       NaN  ...   \n",
      "std          NaN       NaN       0.724623           NaN       NaN  ...   \n",
      "min          NaN       NaN       0.000000           NaN       NaN  ...   \n",
      "25%          NaN       NaN       0.000000           NaN       NaN  ...   \n",
      "50%          NaN       NaN       0.000000           NaN       NaN  ...   \n",
      "75%          NaN       NaN       0.000000           NaN       NaN  ...   \n",
      "max          NaN       NaN       2.000000           NaN       NaN  ...   \n",
      "\n",
      "        AnyHealthcare  NoDocbcCost        GenHlth       MentHlth  \\\n",
      "count        229781.0     229781.0  229781.000000  229781.000000   \n",
      "unique            2.0          2.0            NaN            NaN   \n",
      "top               1.0          0.0            NaN            NaN   \n",
      "freq         217390.0     208455.0            NaN            NaN   \n",
      "mean              NaN          NaN       2.601151       3.505373   \n",
      "std               NaN          NaN       1.064685       7.713725   \n",
      "min               NaN          NaN       1.000000       0.000000   \n",
      "25%               NaN          NaN       2.000000       0.000000   \n",
      "50%               NaN          NaN       3.000000       0.000000   \n",
      "75%               NaN          NaN       3.000000       2.000000   \n",
      "max               NaN          NaN       5.000000      30.000000   \n",
      "\n",
      "             PhysHlth  DiffWalk       Sex       Age  Education    Income  \n",
      "count   229781.000000  229781.0  229781.0  229781.0   229781.0  229781.0  \n",
      "unique            NaN       2.0       2.0      13.0        6.0       8.0  \n",
      "top               NaN       0.0       0.0       9.0        6.0       8.0  \n",
      "freq              NaN  187155.0  128854.0   29736.0    88443.0   71818.0  \n",
      "mean         4.675178       NaN       NaN       NaN        NaN       NaN  \n",
      "std          9.046568       NaN       NaN       NaN        NaN       NaN  \n",
      "min          0.000000       NaN       NaN       NaN        NaN       NaN  \n",
      "25%          0.000000       NaN       NaN       NaN        NaN       NaN  \n",
      "50%          0.000000       NaN       NaN       NaN        NaN       NaN  \n",
      "75%          4.000000       NaN       NaN       NaN        NaN       NaN  \n",
      "max         30.000000       NaN       NaN       NaN        NaN       NaN  \n",
      "\n",
      "[11 rows x 22 columns]\n"
     ]
    }
   ],
   "source": [
    "print(df.describe(include='all'))"
   ]
  },
  {
   "cell_type": "markdown",
   "id": "af05a68c",
   "metadata": {},
   "source": [
    "Displaying descriptive statistics for all columns, including categorical and numerical data.\n",
    "This provides insights into the distribution and unique values of each column."
   ]
  },
  {
   "cell_type": "code",
   "execution_count": 13,
   "id": "00a9aa33",
   "metadata": {},
   "outputs": [
    {
     "data": {
      "text/html": [
       "<div>\n",
       "<style scoped>\n",
       "    .dataframe tbody tr th:only-of-type {\n",
       "        vertical-align: middle;\n",
       "    }\n",
       "\n",
       "    .dataframe tbody tr th {\n",
       "        vertical-align: top;\n",
       "    }\n",
       "\n",
       "    .dataframe thead th {\n",
       "        text-align: right;\n",
       "    }\n",
       "</style>\n",
       "<table border=\"1\" class=\"dataframe\">\n",
       "  <thead>\n",
       "    <tr style=\"text-align: right;\">\n",
       "      <th></th>\n",
       "      <th>HeartDiseaseorAttack</th>\n",
       "      <th>HighBP</th>\n",
       "      <th>HighChol</th>\n",
       "      <th>CholCheck</th>\n",
       "      <th>BMI</th>\n",
       "      <th>Smoker</th>\n",
       "      <th>Stroke</th>\n",
       "      <th>Diabetes</th>\n",
       "      <th>PhysActivity</th>\n",
       "      <th>Fruits</th>\n",
       "      <th>...</th>\n",
       "      <th>AnyHealthcare</th>\n",
       "      <th>NoDocbcCost</th>\n",
       "      <th>GenHlth</th>\n",
       "      <th>MentHlth</th>\n",
       "      <th>PhysHlth</th>\n",
       "      <th>DiffWalk</th>\n",
       "      <th>Sex</th>\n",
       "      <th>Age</th>\n",
       "      <th>Education</th>\n",
       "      <th>Income</th>\n",
       "    </tr>\n",
       "  </thead>\n",
       "  <tbody>\n",
       "    <tr>\n",
       "      <th>0</th>\n",
       "      <td>0</td>\n",
       "      <td>1</td>\n",
       "      <td>1</td>\n",
       "      <td>1</td>\n",
       "      <td>40</td>\n",
       "      <td>1</td>\n",
       "      <td>0</td>\n",
       "      <td>0</td>\n",
       "      <td>0</td>\n",
       "      <td>0</td>\n",
       "      <td>...</td>\n",
       "      <td>1</td>\n",
       "      <td>0</td>\n",
       "      <td>5</td>\n",
       "      <td>18</td>\n",
       "      <td>15</td>\n",
       "      <td>1</td>\n",
       "      <td>0</td>\n",
       "      <td>9</td>\n",
       "      <td>4</td>\n",
       "      <td>3</td>\n",
       "    </tr>\n",
       "    <tr>\n",
       "      <th>1</th>\n",
       "      <td>0</td>\n",
       "      <td>0</td>\n",
       "      <td>0</td>\n",
       "      <td>0</td>\n",
       "      <td>25</td>\n",
       "      <td>1</td>\n",
       "      <td>0</td>\n",
       "      <td>0</td>\n",
       "      <td>1</td>\n",
       "      <td>0</td>\n",
       "      <td>...</td>\n",
       "      <td>0</td>\n",
       "      <td>1</td>\n",
       "      <td>3</td>\n",
       "      <td>0</td>\n",
       "      <td>0</td>\n",
       "      <td>0</td>\n",
       "      <td>0</td>\n",
       "      <td>7</td>\n",
       "      <td>6</td>\n",
       "      <td>1</td>\n",
       "    </tr>\n",
       "    <tr>\n",
       "      <th>2</th>\n",
       "      <td>0</td>\n",
       "      <td>1</td>\n",
       "      <td>1</td>\n",
       "      <td>1</td>\n",
       "      <td>28</td>\n",
       "      <td>0</td>\n",
       "      <td>0</td>\n",
       "      <td>0</td>\n",
       "      <td>0</td>\n",
       "      <td>1</td>\n",
       "      <td>...</td>\n",
       "      <td>1</td>\n",
       "      <td>1</td>\n",
       "      <td>5</td>\n",
       "      <td>30</td>\n",
       "      <td>30</td>\n",
       "      <td>1</td>\n",
       "      <td>0</td>\n",
       "      <td>9</td>\n",
       "      <td>4</td>\n",
       "      <td>8</td>\n",
       "    </tr>\n",
       "    <tr>\n",
       "      <th>3</th>\n",
       "      <td>0</td>\n",
       "      <td>1</td>\n",
       "      <td>0</td>\n",
       "      <td>1</td>\n",
       "      <td>27</td>\n",
       "      <td>0</td>\n",
       "      <td>0</td>\n",
       "      <td>0</td>\n",
       "      <td>1</td>\n",
       "      <td>1</td>\n",
       "      <td>...</td>\n",
       "      <td>1</td>\n",
       "      <td>0</td>\n",
       "      <td>2</td>\n",
       "      <td>0</td>\n",
       "      <td>0</td>\n",
       "      <td>0</td>\n",
       "      <td>0</td>\n",
       "      <td>11</td>\n",
       "      <td>3</td>\n",
       "      <td>6</td>\n",
       "    </tr>\n",
       "    <tr>\n",
       "      <th>4</th>\n",
       "      <td>0</td>\n",
       "      <td>1</td>\n",
       "      <td>1</td>\n",
       "      <td>1</td>\n",
       "      <td>24</td>\n",
       "      <td>0</td>\n",
       "      <td>0</td>\n",
       "      <td>0</td>\n",
       "      <td>1</td>\n",
       "      <td>1</td>\n",
       "      <td>...</td>\n",
       "      <td>1</td>\n",
       "      <td>0</td>\n",
       "      <td>2</td>\n",
       "      <td>3</td>\n",
       "      <td>0</td>\n",
       "      <td>0</td>\n",
       "      <td>0</td>\n",
       "      <td>11</td>\n",
       "      <td>5</td>\n",
       "      <td>4</td>\n",
       "    </tr>\n",
       "  </tbody>\n",
       "</table>\n",
       "<p>5 rows × 22 columns</p>\n",
       "</div>"
      ],
      "text/plain": [
       "  HeartDiseaseorAttack HighBP HighChol CholCheck  BMI Smoker Stroke  Diabetes  \\\n",
       "0                    0      1        1         1   40      1      0         0   \n",
       "1                    0      0        0         0   25      1      0         0   \n",
       "2                    0      1        1         1   28      0      0         0   \n",
       "3                    0      1        0         1   27      0      0         0   \n",
       "4                    0      1        1         1   24      0      0         0   \n",
       "\n",
       "  PhysActivity Fruits  ... AnyHealthcare NoDocbcCost GenHlth MentHlth  \\\n",
       "0            0      0  ...             1           0       5       18   \n",
       "1            1      0  ...             0           1       3        0   \n",
       "2            0      1  ...             1           1       5       30   \n",
       "3            1      1  ...             1           0       2        0   \n",
       "4            1      1  ...             1           0       2        3   \n",
       "\n",
       "   PhysHlth  DiffWalk  Sex Age Education Income  \n",
       "0        15         1    0   9         4      3  \n",
       "1         0         0    0   7         6      1  \n",
       "2        30         1    0   9         4      8  \n",
       "3         0         0    0  11         3      6  \n",
       "4         0         0    0  11         5      4  \n",
       "\n",
       "[5 rows x 22 columns]"
      ]
     },
     "execution_count": 13,
     "metadata": {},
     "output_type": "execute_result"
    }
   ],
   "source": [
    "df.head()"
   ]
  },
  {
   "cell_type": "markdown",
   "id": "a074f2ae",
   "metadata": {},
   "source": [
    "Displaying the first few rows of the DataFrame to get a preview of the data.\n",
    "This helps in understanding the structure and content of the dataset"
   ]
  },
  {
   "cell_type": "code",
   "execution_count": 14,
   "id": "aa328ad8",
   "metadata": {},
   "outputs": [],
   "source": [
    "df['HeartDiseaseorAttack'].replace({0: 'No', 1: 'Prediabetes', 2: 'Diabetes'}, inplace=True)\n",
    "df['HighBP'].replace({0: 'No', 1: 'Yes'}, inplace=True)\n",
    "df['HighChol'].replace({0: 'No', 1: 'Yes'}, inplace=True)\n",
    "df['CholCheck'].replace({0: 'No', 1: 'Yes'}, inplace=True)\n",
    "df['Smoker'].replace({0: 'No', 1: 'Yes'}, inplace=True)\n",
    "df['Stroke'].replace({0: 'No', 1: 'Yes'}, inplace=True)\n",
    "df['HeartDiseaseorAttack'].replace({0: 'No', 1: 'Yes'}, inplace=True)\n",
    "df['PhysActivity'].replace({0: 'No', 1: 'Yes'}, inplace=True)\n",
    "df['Fruits'].replace({0: 'No', 1: 'Yes'}, inplace=True)\n",
    "df['Veggies'].replace({0: 'No', 1: 'Yes'}, inplace=True)\n",
    "df['HvyAlcoholConsump'].replace({0: 'No', 1: 'Yes'}, inplace=True)\n",
    "df['AnyHealthcare'].replace({0: 'No', 1: 'Yes'}, inplace=True)\n",
    "df['NoDocbcCost'].replace({0: 'No', 1: 'Yes'}, inplace=True)\n",
    "df['DiffWalk'].replace({0: 'No', 1: 'Yes'}, inplace=True)\n",
    "df['Sex'].replace({0: 'Female', 1: 'Male'}, inplace=True)"
   ]
  },
  {
   "cell_type": "markdown",
   "id": "966ab363",
   "metadata": {},
   "source": [
    "1) HeartDiseaseorAttack: 0 = no diabetes 1 = prediabetes 2 = diabetes\n",
    "2) HighBP: 0 = no high BP 1 = high BP\n",
    "3) HighChol: 0 = no high cholesterol 1 = high cholesterol\n",
    "4) CholCheck: 0 = no cholesterol check in 5 years 1 = yes cholesterol check in 5 years\n",
    "5) BMI: Body Mass Index\n",
    "6) Smoker: Have you smoked at least 100 cigarettes in your entire life? (Note: 5 packs = 100 cigarettes) 0 = no 1 = yes\n",
    "7) Stroke: (Ever told) you had a stroke. 0 = no 1 = yes\n",
    "8) HeartDiseaseorAttack: coronary heart disease (CHD) or myocardial infarction (MI) 0 = no 1 = yes\n",
    "9) PhysActivity: physical activity in past 30 days - not including job 0 = no 1 = yes\n",
    "10) Fruits: Consume Fruit 1 or more times per day 0 = no 1 = yes\n",
    "11) Veggies: Consume Vegetables 1 or more times per day 0 = no 1 = yes\n",
    "12) HvyAlcoholConsump: Heavy drinkers (adult men having more than 14 drinks per week and adult women having more than 7 drinks per week) 0 = no 1 = yes\n",
    "13) AnyHealthcare: Have any kind of health care coverage, including health insurance, prepaid plans such as HMO, etc. 0 = no 1 = yes\n",
    "14) NoDocbcCost: Was there a time in the past 12 months when you needed to see a doctor but could not because of cost? 0 = no 1 = yes\n",
    "15) GenHlth: Would you say that in general your health is: scale 1-5 1 = excellent 2 = very good 3 = good 4 = fair 5 = poor\n",
    "16) MentHlth: Now thinking about your mental health, which includes stress, depression, and problems with emotions, for how many days during the past 30 days was your mental health not good? scale 1-30 days\n",
    "17) PhysHlth: Now thinking about your physical health, which includes physical illness and injury, for how many days during the past 30 days was your physical health not good? scale 1-30 days\n",
    "18) DiffWalk: Do you have serious difficulty walking or climbing stairs? 0 = no 1 = yes\n",
    "19) Sex:0 = female 1 = male\n",
    "20) Age: 13-level age category (_AGEG5YR see codebook) 1 = 18-24 9 = 60-64 13 = 80 or older\n",
    "21) Education: Education level (EDUCA see codebook) scale 1-6 \n",
    "1 = Never attended school or only kindergarten \n",
    "2 = Grades 1 through 8 (Elementary) \n",
    "3 = Grades 9 through 11 (Some high school) \n",
    "4 = Grade 12 or GED (High school graduate) \n",
    "5 = College 1 year to 3 years (Some college or technical school) \n",
    "6 = College 4 years or more (College graduate)\n",
    "22) Income: Income scale (INCOME2 see codebook) scale 1-8 \n",
    "1 = less than $10,000 \n",
    "5 = less than $35,000 \n",
    "8 = $75,000 or more"
   ]
  },
  {
   "cell_type": "code",
   "execution_count": 15,
   "id": "4df07cf0",
   "metadata": {},
   "outputs": [
    {
     "data": {
      "text/html": [
       "<div>\n",
       "<style scoped>\n",
       "    .dataframe tbody tr th:only-of-type {\n",
       "        vertical-align: middle;\n",
       "    }\n",
       "\n",
       "    .dataframe tbody tr th {\n",
       "        vertical-align: top;\n",
       "    }\n",
       "\n",
       "    .dataframe thead th {\n",
       "        text-align: right;\n",
       "    }\n",
       "</style>\n",
       "<table border=\"1\" class=\"dataframe\">\n",
       "  <thead>\n",
       "    <tr style=\"text-align: right;\">\n",
       "      <th></th>\n",
       "      <th>HeartDiseaseorAttack</th>\n",
       "      <th>HighBP</th>\n",
       "      <th>HighChol</th>\n",
       "      <th>CholCheck</th>\n",
       "      <th>BMI</th>\n",
       "      <th>Smoker</th>\n",
       "      <th>Stroke</th>\n",
       "      <th>Diabetes</th>\n",
       "      <th>PhysActivity</th>\n",
       "      <th>Fruits</th>\n",
       "      <th>...</th>\n",
       "      <th>AnyHealthcare</th>\n",
       "      <th>NoDocbcCost</th>\n",
       "      <th>GenHlth</th>\n",
       "      <th>MentHlth</th>\n",
       "      <th>PhysHlth</th>\n",
       "      <th>DiffWalk</th>\n",
       "      <th>Sex</th>\n",
       "      <th>Age</th>\n",
       "      <th>Education</th>\n",
       "      <th>Income</th>\n",
       "    </tr>\n",
       "  </thead>\n",
       "  <tbody>\n",
       "    <tr>\n",
       "      <th>0</th>\n",
       "      <td>No</td>\n",
       "      <td>Yes</td>\n",
       "      <td>Yes</td>\n",
       "      <td>Yes</td>\n",
       "      <td>40</td>\n",
       "      <td>Yes</td>\n",
       "      <td>No</td>\n",
       "      <td>0</td>\n",
       "      <td>No</td>\n",
       "      <td>No</td>\n",
       "      <td>...</td>\n",
       "      <td>Yes</td>\n",
       "      <td>No</td>\n",
       "      <td>5</td>\n",
       "      <td>18</td>\n",
       "      <td>15</td>\n",
       "      <td>Yes</td>\n",
       "      <td>Female</td>\n",
       "      <td>9</td>\n",
       "      <td>4</td>\n",
       "      <td>3</td>\n",
       "    </tr>\n",
       "    <tr>\n",
       "      <th>1</th>\n",
       "      <td>No</td>\n",
       "      <td>No</td>\n",
       "      <td>No</td>\n",
       "      <td>No</td>\n",
       "      <td>25</td>\n",
       "      <td>Yes</td>\n",
       "      <td>No</td>\n",
       "      <td>0</td>\n",
       "      <td>Yes</td>\n",
       "      <td>No</td>\n",
       "      <td>...</td>\n",
       "      <td>No</td>\n",
       "      <td>Yes</td>\n",
       "      <td>3</td>\n",
       "      <td>0</td>\n",
       "      <td>0</td>\n",
       "      <td>No</td>\n",
       "      <td>Female</td>\n",
       "      <td>7</td>\n",
       "      <td>6</td>\n",
       "      <td>1</td>\n",
       "    </tr>\n",
       "    <tr>\n",
       "      <th>2</th>\n",
       "      <td>No</td>\n",
       "      <td>Yes</td>\n",
       "      <td>Yes</td>\n",
       "      <td>Yes</td>\n",
       "      <td>28</td>\n",
       "      <td>No</td>\n",
       "      <td>No</td>\n",
       "      <td>0</td>\n",
       "      <td>No</td>\n",
       "      <td>Yes</td>\n",
       "      <td>...</td>\n",
       "      <td>Yes</td>\n",
       "      <td>Yes</td>\n",
       "      <td>5</td>\n",
       "      <td>30</td>\n",
       "      <td>30</td>\n",
       "      <td>Yes</td>\n",
       "      <td>Female</td>\n",
       "      <td>9</td>\n",
       "      <td>4</td>\n",
       "      <td>8</td>\n",
       "    </tr>\n",
       "    <tr>\n",
       "      <th>3</th>\n",
       "      <td>No</td>\n",
       "      <td>Yes</td>\n",
       "      <td>No</td>\n",
       "      <td>Yes</td>\n",
       "      <td>27</td>\n",
       "      <td>No</td>\n",
       "      <td>No</td>\n",
       "      <td>0</td>\n",
       "      <td>Yes</td>\n",
       "      <td>Yes</td>\n",
       "      <td>...</td>\n",
       "      <td>Yes</td>\n",
       "      <td>No</td>\n",
       "      <td>2</td>\n",
       "      <td>0</td>\n",
       "      <td>0</td>\n",
       "      <td>No</td>\n",
       "      <td>Female</td>\n",
       "      <td>11</td>\n",
       "      <td>3</td>\n",
       "      <td>6</td>\n",
       "    </tr>\n",
       "    <tr>\n",
       "      <th>4</th>\n",
       "      <td>No</td>\n",
       "      <td>Yes</td>\n",
       "      <td>Yes</td>\n",
       "      <td>Yes</td>\n",
       "      <td>24</td>\n",
       "      <td>No</td>\n",
       "      <td>No</td>\n",
       "      <td>0</td>\n",
       "      <td>Yes</td>\n",
       "      <td>Yes</td>\n",
       "      <td>...</td>\n",
       "      <td>Yes</td>\n",
       "      <td>No</td>\n",
       "      <td>2</td>\n",
       "      <td>3</td>\n",
       "      <td>0</td>\n",
       "      <td>No</td>\n",
       "      <td>Female</td>\n",
       "      <td>11</td>\n",
       "      <td>5</td>\n",
       "      <td>4</td>\n",
       "    </tr>\n",
       "  </tbody>\n",
       "</table>\n",
       "<p>5 rows × 22 columns</p>\n",
       "</div>"
      ],
      "text/plain": [
       "  HeartDiseaseorAttack HighBP HighChol CholCheck  BMI Smoker Stroke  Diabetes  \\\n",
       "0                   No    Yes      Yes       Yes   40    Yes     No         0   \n",
       "1                   No     No       No        No   25    Yes     No         0   \n",
       "2                   No    Yes      Yes       Yes   28     No     No         0   \n",
       "3                   No    Yes       No       Yes   27     No     No         0   \n",
       "4                   No    Yes      Yes       Yes   24     No     No         0   \n",
       "\n",
       "  PhysActivity Fruits  ... AnyHealthcare NoDocbcCost GenHlth MentHlth  \\\n",
       "0           No     No  ...           Yes          No       5       18   \n",
       "1          Yes     No  ...            No         Yes       3        0   \n",
       "2           No    Yes  ...           Yes         Yes       5       30   \n",
       "3          Yes    Yes  ...           Yes          No       2        0   \n",
       "4          Yes    Yes  ...           Yes          No       2        3   \n",
       "\n",
       "   PhysHlth  DiffWalk     Sex Age Education Income  \n",
       "0        15       Yes  Female   9         4      3  \n",
       "1         0        No  Female   7         6      1  \n",
       "2        30       Yes  Female   9         4      8  \n",
       "3         0        No  Female  11         3      6  \n",
       "4         0        No  Female  11         5      4  \n",
       "\n",
       "[5 rows x 22 columns]"
      ]
     },
     "execution_count": 15,
     "metadata": {},
     "output_type": "execute_result"
    }
   ],
   "source": [
    "df.head()"
   ]
  },
  {
   "cell_type": "markdown",
   "id": "ceafd32a",
   "metadata": {},
   "source": [
    "The above displays the first 5 rows of the DataFrame with updated record values"
   ]
  },
  {
   "cell_type": "code",
   "execution_count": 17,
   "id": "e5170158",
   "metadata": {},
   "outputs": [],
   "source": [
    "df.to_csv('C:/Users/Vilas/Downloads/cleaned_dataset.csv', index=False)"
   ]
  },
  {
   "cell_type": "markdown",
   "id": "993da0d2",
   "metadata": {},
   "source": [
    "The cleaned DataFrame is being saved to a CSV file at the specified path, and the index is excluded from the output file."
   ]
  }
 ],
 "metadata": {
  "kernelspec": {
   "display_name": "Python 3 (ipykernel)",
   "language": "python",
   "name": "python3"
  },
  "language_info": {
   "codemirror_mode": {
    "name": "ipython",
    "version": 3
   },
   "file_extension": ".py",
   "mimetype": "text/x-python",
   "name": "python",
   "nbconvert_exporter": "python",
   "pygments_lexer": "ipython3",
   "version": "3.10.9"
  }
 },
 "nbformat": 4,
 "nbformat_minor": 5
}
